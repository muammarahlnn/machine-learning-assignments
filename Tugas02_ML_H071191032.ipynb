{
  "nbformat": 4,
  "nbformat_minor": 0,
  "metadata": {
    "colab": {
      "name": "Tugas02-ML-H071191032.ipynb",
      "provenance": []
    },
    "kernelspec": {
      "name": "python3",
      "display_name": "Python 3"
    },
    "language_info": {
      "name": "python"
    }
  },
  "cells": [
    {
      "cell_type": "markdown",
      "metadata": {
        "id": "vniVrGyypF_H"
      },
      "source": [
        "Nama : Muammar Ahlan Abimanyu  \n",
        "NIM : H071191032"
      ]
    },
    {
      "cell_type": "code",
      "metadata": {
        "id": "itE4v2supOEn"
      },
      "source": [
        "# import library\n",
        "import numpy as np\n",
        "import pandas as pd\n",
        "import seaborn as sns\n",
        "import matplotlib.pyplot as plt"
      ],
      "execution_count": 7,
      "outputs": []
    },
    {
      "cell_type": "markdown",
      "metadata": {
        "id": "JsiBRWtJ3iF-"
      },
      "source": [
        "# Preprocessing data"
      ]
    },
    {
      "cell_type": "code",
      "metadata": {
        "colab": {
          "base_uri": "https://localhost:8080/",
          "height": 556
        },
        "id": "uoN117Jcylgr",
        "outputId": "2c8cde00-646a-4d14-a21b-fea49f3824b3"
      },
      "source": [
        "# read dataset\n",
        "df = pd.read_csv('top500mangaMAL.csv')\n",
        "\n",
        "# show data\n",
        "df.head()"
      ],
      "execution_count": 8,
      "outputs": [
        {
          "output_type": "execute_result",
          "data": {
            "text/html": [
              "<div>\n",
              "<style scoped>\n",
              "    .dataframe tbody tr th:only-of-type {\n",
              "        vertical-align: middle;\n",
              "    }\n",
              "\n",
              "    .dataframe tbody tr th {\n",
              "        vertical-align: top;\n",
              "    }\n",
              "\n",
              "    .dataframe thead th {\n",
              "        text-align: right;\n",
              "    }\n",
              "</style>\n",
              "<table border=\"1\" class=\"dataframe\">\n",
              "  <thead>\n",
              "    <tr style=\"text-align: right;\">\n",
              "      <th></th>\n",
              "      <th>Manga ID</th>\n",
              "      <th>Manga URL</th>\n",
              "      <th>English Title</th>\n",
              "      <th>Synonims Titles</th>\n",
              "      <th>Japanese Title</th>\n",
              "      <th>Type</th>\n",
              "      <th>Volumes</th>\n",
              "      <th>Chapters</th>\n",
              "      <th>Status</th>\n",
              "      <th>Published</th>\n",
              "      <th>Published Dates</th>\n",
              "      <th>Genres</th>\n",
              "      <th>Author</th>\n",
              "      <th>Serialization</th>\n",
              "      <th>Score</th>\n",
              "      <th>Ranked</th>\n",
              "      <th>Popularity</th>\n",
              "      <th>Members</th>\n",
              "      <th>Favorites</th>\n",
              "      <th>Score Voted By</th>\n",
              "    </tr>\n",
              "  </thead>\n",
              "  <tbody>\n",
              "    <tr>\n",
              "      <th>0</th>\n",
              "      <td>2</td>\n",
              "      <td>https://myanimelist.net/manga/2/Berserk</td>\n",
              "      <td>Berserk</td>\n",
              "      <td>Berserk: The Prototype</td>\n",
              "      <td>ベルセルク</td>\n",
              "      <td>Manga</td>\n",
              "      <td>Unknown</td>\n",
              "      <td>Unknown</td>\n",
              "      <td>Publishing</td>\n",
              "      <td>Aug  25, 1989 to ?</td>\n",
              "      <td>{'from': '1989-08-25', 'to': 'Unknown'}</td>\n",
              "      <td>['Action', 'Adventure', 'Demons', 'Drama', 'Fa...</td>\n",
              "      <td>['Miura, Kentarou (Story &amp; Art)']</td>\n",
              "      <td>Young Animal</td>\n",
              "      <td>9.33</td>\n",
              "      <td>1</td>\n",
              "      <td>4</td>\n",
              "      <td>296958</td>\n",
              "      <td>61992</td>\n",
              "      <td>139571</td>\n",
              "    </tr>\n",
              "    <tr>\n",
              "      <th>1</th>\n",
              "      <td>1706</td>\n",
              "      <td>https://myanimelist.net/manga/1706/JoJo_no_Kim...</td>\n",
              "      <td>Unknown</td>\n",
              "      <td>JoJo's Bizarre Adventure Part 7: Steel Ball Ru...</td>\n",
              "      <td>ジョジョの奇妙な冒険 Part7 STEEL BALL RUN</td>\n",
              "      <td>Manga</td>\n",
              "      <td>24</td>\n",
              "      <td>96</td>\n",
              "      <td>Finished</td>\n",
              "      <td>Jan  19, 2004 to Apr  19, 2011</td>\n",
              "      <td>{'from': '2004-01-19', 'to': '2011-04-19'}</td>\n",
              "      <td>['Action', 'Adventure', 'Mystery', 'Historical...</td>\n",
              "      <td>['Araki, Hirohiko (Story &amp; Art)']</td>\n",
              "      <td>Ultra Jump</td>\n",
              "      <td>9.21</td>\n",
              "      <td>2</td>\n",
              "      <td>50</td>\n",
              "      <td>97073</td>\n",
              "      <td>18083</td>\n",
              "      <td>54901</td>\n",
              "    </tr>\n",
              "    <tr>\n",
              "      <th>2</th>\n",
              "      <td>25</td>\n",
              "      <td>https://myanimelist.net/manga/25/Fullmetal_Alc...</td>\n",
              "      <td>Fullmetal Alchemist</td>\n",
              "      <td>Full Metal Alchemist, Hagane no Renkinjutsushi...</td>\n",
              "      <td>鋼の錬金術師</td>\n",
              "      <td>Manga</td>\n",
              "      <td>27</td>\n",
              "      <td>116</td>\n",
              "      <td>Finished</td>\n",
              "      <td>Jul  12, 2001 to Sep  11, 2010</td>\n",
              "      <td>{'from': '2001-07-12', 'to': '2010-09-11'}</td>\n",
              "      <td>['Action', 'Adventure', 'Comedy', 'Drama', 'Sh...</td>\n",
              "      <td>['Arakawa, Hiromu (Story &amp; Art)']</td>\n",
              "      <td>Shounen Gangan</td>\n",
              "      <td>9.12</td>\n",
              "      <td>3</td>\n",
              "      <td>11</td>\n",
              "      <td>197562</td>\n",
              "      <td>26386</td>\n",
              "      <td>110885</td>\n",
              "    </tr>\n",
              "    <tr>\n",
              "      <th>3</th>\n",
              "      <td>13</td>\n",
              "      <td>https://myanimelist.net/manga/13/One_Piece</td>\n",
              "      <td>One Piece</td>\n",
              "      <td>Unknown</td>\n",
              "      <td>ONE PIECE</td>\n",
              "      <td>Manga</td>\n",
              "      <td>Unknown</td>\n",
              "      <td>Unknown</td>\n",
              "      <td>Publishing</td>\n",
              "      <td>Jul  22, 1997 to ?</td>\n",
              "      <td>{'from': '1997-07-22', 'to': 'Unknown'}</td>\n",
              "      <td>['Action', 'Adventure', 'Comedy', 'Fantasy', '...</td>\n",
              "      <td>['Oda, Eiichiro (Story &amp; Art)']</td>\n",
              "      <td>Shounen Jump (Weekly)</td>\n",
              "      <td>9.08</td>\n",
              "      <td>4</td>\n",
              "      <td>2</td>\n",
              "      <td>306944</td>\n",
              "      <td>75106</td>\n",
              "      <td>185560</td>\n",
              "    </tr>\n",
              "    <tr>\n",
              "      <th>4</th>\n",
              "      <td>1</td>\n",
              "      <td>https://myanimelist.net/manga/1/Monster</td>\n",
              "      <td>Monster</td>\n",
              "      <td>Unknown</td>\n",
              "      <td>MONSTER</td>\n",
              "      <td>Manga</td>\n",
              "      <td>18</td>\n",
              "      <td>162</td>\n",
              "      <td>Finished</td>\n",
              "      <td>Dec  5, 1994 to Dec  20, 2001</td>\n",
              "      <td>{'from': '1994-12-05', 'to': '2001-12-20'}</td>\n",
              "      <td>['Mystery', 'Drama', 'Psychological', 'Seinen']</td>\n",
              "      <td>['Urasawa, Naoki (Story &amp; Art)']</td>\n",
              "      <td>Big Comic Original</td>\n",
              "      <td>9.07</td>\n",
              "      <td>5</td>\n",
              "      <td>39</td>\n",
              "      <td>103030</td>\n",
              "      <td>10000</td>\n",
              "      <td>41412</td>\n",
              "    </tr>\n",
              "  </tbody>\n",
              "</table>\n",
              "</div>"
            ],
            "text/plain": [
              "   Manga ID  ... Score Voted By\n",
              "0         2  ...         139571\n",
              "1      1706  ...          54901\n",
              "2        25  ...         110885\n",
              "3        13  ...         185560\n",
              "4         1  ...          41412\n",
              "\n",
              "[5 rows x 20 columns]"
            ]
          },
          "metadata": {},
          "execution_count": 8
        }
      ]
    },
    {
      "cell_type": "code",
      "metadata": {
        "colab": {
          "base_uri": "https://localhost:8080/",
          "height": 206
        },
        "id": "A-TgV4Vvy3SW",
        "outputId": "4daf0278-cf26-47d3-c6ef-23fc1299efbf"
      },
      "source": [
        "# remove unneceessary attribute\n",
        "df = df[['Score', 'Members', 'Favorites', 'Score Voted By']]\n",
        "\n",
        "# show refactored dataset\n",
        "df.head()"
      ],
      "execution_count": 9,
      "outputs": [
        {
          "output_type": "execute_result",
          "data": {
            "text/html": [
              "<div>\n",
              "<style scoped>\n",
              "    .dataframe tbody tr th:only-of-type {\n",
              "        vertical-align: middle;\n",
              "    }\n",
              "\n",
              "    .dataframe tbody tr th {\n",
              "        vertical-align: top;\n",
              "    }\n",
              "\n",
              "    .dataframe thead th {\n",
              "        text-align: right;\n",
              "    }\n",
              "</style>\n",
              "<table border=\"1\" class=\"dataframe\">\n",
              "  <thead>\n",
              "    <tr style=\"text-align: right;\">\n",
              "      <th></th>\n",
              "      <th>Score</th>\n",
              "      <th>Members</th>\n",
              "      <th>Favorites</th>\n",
              "      <th>Score Voted By</th>\n",
              "    </tr>\n",
              "  </thead>\n",
              "  <tbody>\n",
              "    <tr>\n",
              "      <th>0</th>\n",
              "      <td>9.33</td>\n",
              "      <td>296958</td>\n",
              "      <td>61992</td>\n",
              "      <td>139571</td>\n",
              "    </tr>\n",
              "    <tr>\n",
              "      <th>1</th>\n",
              "      <td>9.21</td>\n",
              "      <td>97073</td>\n",
              "      <td>18083</td>\n",
              "      <td>54901</td>\n",
              "    </tr>\n",
              "    <tr>\n",
              "      <th>2</th>\n",
              "      <td>9.12</td>\n",
              "      <td>197562</td>\n",
              "      <td>26386</td>\n",
              "      <td>110885</td>\n",
              "    </tr>\n",
              "    <tr>\n",
              "      <th>3</th>\n",
              "      <td>9.08</td>\n",
              "      <td>306944</td>\n",
              "      <td>75106</td>\n",
              "      <td>185560</td>\n",
              "    </tr>\n",
              "    <tr>\n",
              "      <th>4</th>\n",
              "      <td>9.07</td>\n",
              "      <td>103030</td>\n",
              "      <td>10000</td>\n",
              "      <td>41412</td>\n",
              "    </tr>\n",
              "  </tbody>\n",
              "</table>\n",
              "</div>"
            ],
            "text/plain": [
              "   Score  Members  Favorites  Score Voted By\n",
              "0   9.33   296958      61992          139571\n",
              "1   9.21    97073      18083           54901\n",
              "2   9.12   197562      26386          110885\n",
              "3   9.08   306944      75106          185560\n",
              "4   9.07   103030      10000           41412"
            ]
          },
          "metadata": {},
          "execution_count": 9
        }
      ]
    },
    {
      "cell_type": "code",
      "metadata": {
        "colab": {
          "base_uri": "https://localhost:8080/"
        },
        "id": "VotMkQe_0O5a",
        "outputId": "d72f1706-ed25-486b-9107-87a6db1002de"
      },
      "source": [
        "from sklearn.preprocessing import StandardScaler\n",
        "df_scale = df[['Score', 'Members', 'Favorites', 'Score Voted By']]\n",
        "\n",
        "# initialize the scaler\n",
        "scaler = StandardScaler()\n",
        "\n",
        "# fit and transform\n",
        "df_scale = scaler.fit_transform(df_scale)\n",
        "df_scale.shape"
      ],
      "execution_count": 10,
      "outputs": [
        {
          "output_type": "execute_result",
          "data": {
            "text/plain": [
              "(500, 4)"
            ]
          },
          "metadata": {},
          "execution_count": 10
        }
      ]
    },
    {
      "cell_type": "code",
      "metadata": {
        "colab": {
          "base_uri": "https://localhost:8080/"
        },
        "id": "wUAPlw8I1kIY",
        "outputId": "98ddad5a-57cc-444a-958f-f99559ac57a6"
      },
      "source": [
        "df_scale[:5]"
      ],
      "execution_count": 11,
      "outputs": [
        {
          "output_type": "execute_result",
          "data": {
            "text/plain": [
              "array([[ 4.38693005,  5.93442313,  9.68045905,  5.48777666],\n",
              "       [ 3.83929397,  1.42307884,  2.50569945,  1.7687256 ],\n",
              "       [ 3.42856692,  3.69108532,  3.86241514,  4.22777077],\n",
              "       [ 3.24602156,  6.15980414, 11.82329531,  7.50780075],\n",
              "       [ 3.20038522,  1.55752653,  1.18493192,  1.17623381]])"
            ]
          },
          "metadata": {},
          "execution_count": 11
        }
      ]
    },
    {
      "cell_type": "code",
      "metadata": {
        "colab": {
          "base_uri": "https://localhost:8080/",
          "height": 206
        },
        "id": "SAqGx77K2MJ6",
        "outputId": "72190c0f-8e9b-4977-aa01-260c77e7dcb8"
      },
      "source": [
        "data = pd.DataFrame(df_scale)\n",
        "data.columns = ['Score', 'Members', 'Favorites', 'Scored Voted By']\n",
        "\n",
        "data_cluster = data.copy()\n",
        "data.head()"
      ],
      "execution_count": 12,
      "outputs": [
        {
          "output_type": "execute_result",
          "data": {
            "text/html": [
              "<div>\n",
              "<style scoped>\n",
              "    .dataframe tbody tr th:only-of-type {\n",
              "        vertical-align: middle;\n",
              "    }\n",
              "\n",
              "    .dataframe tbody tr th {\n",
              "        vertical-align: top;\n",
              "    }\n",
              "\n",
              "    .dataframe thead th {\n",
              "        text-align: right;\n",
              "    }\n",
              "</style>\n",
              "<table border=\"1\" class=\"dataframe\">\n",
              "  <thead>\n",
              "    <tr style=\"text-align: right;\">\n",
              "      <th></th>\n",
              "      <th>Score</th>\n",
              "      <th>Members</th>\n",
              "      <th>Favorites</th>\n",
              "      <th>Scored Voted By</th>\n",
              "    </tr>\n",
              "  </thead>\n",
              "  <tbody>\n",
              "    <tr>\n",
              "      <th>0</th>\n",
              "      <td>4.386930</td>\n",
              "      <td>5.934423</td>\n",
              "      <td>9.680459</td>\n",
              "      <td>5.487777</td>\n",
              "    </tr>\n",
              "    <tr>\n",
              "      <th>1</th>\n",
              "      <td>3.839294</td>\n",
              "      <td>1.423079</td>\n",
              "      <td>2.505699</td>\n",
              "      <td>1.768726</td>\n",
              "    </tr>\n",
              "    <tr>\n",
              "      <th>2</th>\n",
              "      <td>3.428567</td>\n",
              "      <td>3.691085</td>\n",
              "      <td>3.862415</td>\n",
              "      <td>4.227771</td>\n",
              "    </tr>\n",
              "    <tr>\n",
              "      <th>3</th>\n",
              "      <td>3.246022</td>\n",
              "      <td>6.159804</td>\n",
              "      <td>11.823295</td>\n",
              "      <td>7.507801</td>\n",
              "    </tr>\n",
              "    <tr>\n",
              "      <th>4</th>\n",
              "      <td>3.200385</td>\n",
              "      <td>1.557527</td>\n",
              "      <td>1.184932</td>\n",
              "      <td>1.176234</td>\n",
              "    </tr>\n",
              "  </tbody>\n",
              "</table>\n",
              "</div>"
            ],
            "text/plain": [
              "      Score   Members  Favorites  Scored Voted By\n",
              "0  4.386930  5.934423   9.680459         5.487777\n",
              "1  3.839294  1.423079   2.505699         1.768726\n",
              "2  3.428567  3.691085   3.862415         4.227771\n",
              "3  3.246022  6.159804  11.823295         7.507801\n",
              "4  3.200385  1.557527   1.184932         1.176234"
            ]
          },
          "metadata": {},
          "execution_count": 12
        }
      ]
    },
    {
      "cell_type": "code",
      "metadata": {
        "colab": {
          "base_uri": "https://localhost:8080/",
          "height": 301
        },
        "id": "1kRJd1L13Sl_",
        "outputId": "82cec608-9150-4d04-d033-9e741550ae20"
      },
      "source": [
        "data.describe()"
      ],
      "execution_count": 13,
      "outputs": [
        {
          "output_type": "execute_result",
          "data": {
            "text/html": [
              "<div>\n",
              "<style scoped>\n",
              "    .dataframe tbody tr th:only-of-type {\n",
              "        vertical-align: middle;\n",
              "    }\n",
              "\n",
              "    .dataframe tbody tr th {\n",
              "        vertical-align: top;\n",
              "    }\n",
              "\n",
              "    .dataframe thead th {\n",
              "        text-align: right;\n",
              "    }\n",
              "</style>\n",
              "<table border=\"1\" class=\"dataframe\">\n",
              "  <thead>\n",
              "    <tr style=\"text-align: right;\">\n",
              "      <th></th>\n",
              "      <th>Score</th>\n",
              "      <th>Members</th>\n",
              "      <th>Favorites</th>\n",
              "      <th>Scored Voted By</th>\n",
              "    </tr>\n",
              "  </thead>\n",
              "  <tbody>\n",
              "    <tr>\n",
              "      <th>count</th>\n",
              "      <td>5.000000e+02</td>\n",
              "      <td>5.000000e+02</td>\n",
              "      <td>5.000000e+02</td>\n",
              "      <td>5.000000e+02</td>\n",
              "    </tr>\n",
              "    <tr>\n",
              "      <th>mean</th>\n",
              "      <td>-7.213785e-15</td>\n",
              "      <td>3.808065e-17</td>\n",
              "      <td>-4.996004e-17</td>\n",
              "      <td>9.314771e-17</td>\n",
              "    </tr>\n",
              "    <tr>\n",
              "      <th>std</th>\n",
              "      <td>1.001002e+00</td>\n",
              "      <td>1.001002e+00</td>\n",
              "      <td>1.001002e+00</td>\n",
              "      <td>1.001002e+00</td>\n",
              "    </tr>\n",
              "    <tr>\n",
              "      <th>min</th>\n",
              "      <td>-1.180703e+00</td>\n",
              "      <td>-7.553034e-01</td>\n",
              "      <td>-4.467871e-01</td>\n",
              "      <td>-6.331304e-01</td>\n",
              "    </tr>\n",
              "    <tr>\n",
              "      <th>25%</th>\n",
              "      <td>-7.699763e-01</td>\n",
              "      <td>-5.840784e-01</td>\n",
              "      <td>-4.014842e-01</td>\n",
              "      <td>-5.334557e-01</td>\n",
              "    </tr>\n",
              "    <tr>\n",
              "      <th>50%</th>\n",
              "      <td>-2.223402e-01</td>\n",
              "      <td>-3.725777e-01</td>\n",
              "      <td>-3.255438e-01</td>\n",
              "      <td>-3.753181e-01</td>\n",
              "    </tr>\n",
              "    <tr>\n",
              "      <th>75%</th>\n",
              "      <td>5.078412e-01</td>\n",
              "      <td>1.712618e-01</td>\n",
              "      <td>-2.562188e-02</td>\n",
              "      <td>1.029162e-01</td>\n",
              "    </tr>\n",
              "    <tr>\n",
              "      <th>max</th>\n",
              "      <td>4.386930e+00</td>\n",
              "      <td>6.278047e+00</td>\n",
              "      <td>1.182330e+01</td>\n",
              "      <td>7.507801e+00</td>\n",
              "    </tr>\n",
              "  </tbody>\n",
              "</table>\n",
              "</div>"
            ],
            "text/plain": [
              "              Score       Members     Favorites  Scored Voted By\n",
              "count  5.000000e+02  5.000000e+02  5.000000e+02     5.000000e+02\n",
              "mean  -7.213785e-15  3.808065e-17 -4.996004e-17     9.314771e-17\n",
              "std    1.001002e+00  1.001002e+00  1.001002e+00     1.001002e+00\n",
              "min   -1.180703e+00 -7.553034e-01 -4.467871e-01    -6.331304e-01\n",
              "25%   -7.699763e-01 -5.840784e-01 -4.014842e-01    -5.334557e-01\n",
              "50%   -2.223402e-01 -3.725777e-01 -3.255438e-01    -3.753181e-01\n",
              "75%    5.078412e-01  1.712618e-01 -2.562188e-02     1.029162e-01\n",
              "max    4.386930e+00  6.278047e+00  1.182330e+01     7.507801e+00"
            ]
          },
          "metadata": {},
          "execution_count": 13
        }
      ]
    },
    {
      "cell_type": "markdown",
      "metadata": {
        "id": "K_DqOMWW3u5v"
      },
      "source": [
        "# K-Means"
      ]
    },
    {
      "cell_type": "code",
      "metadata": {
        "colab": {
          "base_uri": "https://localhost:8080/",
          "height": 421
        },
        "id": "r-8_sHQs3ama",
        "outputId": "d28323bd-a721-435c-8929-6a4de809bd36"
      },
      "source": [
        "from sklearn.cluster import KMeans\n",
        "\n",
        "# create list data\n",
        "clusters = []\n",
        "for i in range(1,11) :\n",
        "  km = KMeans(n_clusters=i).fit(data)\n",
        "  clusters.append(km.inertia_)\n",
        "\n",
        "# show plot\n",
        "fig, ax = plt.subplots(figsize=(12, 6))\n",
        "sns.lineplot(x=list(range(1,11)), y=clusters, ax=ax)\n",
        "ax.set_title('Elbow')\n",
        "ax.set_xlabel('Clusters')\n",
        "ax.set_ylabel('Inertia')"
      ],
      "execution_count": 14,
      "outputs": [
        {
          "output_type": "execute_result",
          "data": {
            "text/plain": [
              "Text(0, 0.5, 'Inertia')"
            ]
          },
          "metadata": {},
          "execution_count": 14
        },
        {
          "output_type": "display_data",
          "data": {
            "image/png": "[encoded data removed]",
            "text/plain": [
              "<Figure size 864x432 with 1 Axes>"
            ]
          },
          "metadata": {
            "needs_background": "light"
          }
        }
      ]
    },
    {
      "cell_type": "code",
      "metadata": {
        "colab": {
          "base_uri": "https://localhost:8080/",
          "height": 424
        },
        "id": "a-9dEII96BMd",
        "outputId": "901050a1-f7e7-4b6a-e8b4-450642578231"
      },
      "source": [
        "# create model\n",
        "model_kmeans3 = KMeans(n_clusters=3)\n",
        "model_kmeans4 = KMeans(n_clusters=4)\n",
        "\n",
        "# train model\n",
        "model_kmeans3.fit(data)\n",
        "model_kmeans4.fit(data)\n",
        "\n",
        "# add label to data\n",
        "data_cluster['cluster_kmeans3'] = model_kmeans3.labels_\n",
        "data_cluster['cluster_kmeans4'] = model_kmeans4.labels_\n",
        "\n",
        "data_cluster"
      ],
      "execution_count": 15,
      "outputs": [
        {
          "output_type": "execute_result",
          "data": {
            "text/html": [
              "<div>\n",
              "<style scoped>\n",
              "    .dataframe tbody tr th:only-of-type {\n",
              "        vertical-align: middle;\n",
              "    }\n",
              "\n",
              "    .dataframe tbody tr th {\n",
              "        vertical-align: top;\n",
              "    }\n",
              "\n",
              "    .dataframe thead th {\n",
              "        text-align: right;\n",
              "    }\n",
              "</style>\n",
              "<table border=\"1\" class=\"dataframe\">\n",
              "  <thead>\n",
              "    <tr style=\"text-align: right;\">\n",
              "      <th></th>\n",
              "      <th>Score</th>\n",
              "      <th>Members</th>\n",
              "      <th>Favorites</th>\n",
              "      <th>Scored Voted By</th>\n",
              "      <th>cluster_kmeans3</th>\n",
              "      <th>cluster_kmeans4</th>\n",
              "    </tr>\n",
              "  </thead>\n",
              "  <tbody>\n",
              "    <tr>\n",
              "      <th>0</th>\n",
              "      <td>4.386930</td>\n",
              "      <td>5.934423</td>\n",
              "      <td>9.680459</td>\n",
              "      <td>5.487777</td>\n",
              "      <td>2</td>\n",
              "      <td>1</td>\n",
              "    </tr>\n",
              "    <tr>\n",
              "      <th>1</th>\n",
              "      <td>3.839294</td>\n",
              "      <td>1.423079</td>\n",
              "      <td>2.505699</td>\n",
              "      <td>1.768726</td>\n",
              "      <td>0</td>\n",
              "      <td>2</td>\n",
              "    </tr>\n",
              "    <tr>\n",
              "      <th>2</th>\n",
              "      <td>3.428567</td>\n",
              "      <td>3.691085</td>\n",
              "      <td>3.862415</td>\n",
              "      <td>4.227771</td>\n",
              "      <td>2</td>\n",
              "      <td>1</td>\n",
              "    </tr>\n",
              "    <tr>\n",
              "      <th>3</th>\n",
              "      <td>3.246022</td>\n",
              "      <td>6.159804</td>\n",
              "      <td>11.823295</td>\n",
              "      <td>7.507801</td>\n",
              "      <td>2</td>\n",
              "      <td>1</td>\n",
              "    </tr>\n",
              "    <tr>\n",
              "      <th>4</th>\n",
              "      <td>3.200385</td>\n",
              "      <td>1.557527</td>\n",
              "      <td>1.184932</td>\n",
              "      <td>1.176234</td>\n",
              "      <td>0</td>\n",
              "      <td>2</td>\n",
              "    </tr>\n",
              "    <tr>\n",
              "      <th>...</th>\n",
              "      <td>...</td>\n",
              "      <td>...</td>\n",
              "      <td>...</td>\n",
              "      <td>...</td>\n",
              "      <td>...</td>\n",
              "      <td>...</td>\n",
              "    </tr>\n",
              "    <tr>\n",
              "      <th>495</th>\n",
              "      <td>-1.135067</td>\n",
              "      <td>-0.694027</td>\n",
              "      <td>-0.438454</td>\n",
              "      <td>-0.617493</td>\n",
              "      <td>1</td>\n",
              "      <td>0</td>\n",
              "    </tr>\n",
              "    <tr>\n",
              "      <th>496</th>\n",
              "      <td>-1.135067</td>\n",
              "      <td>-0.250126</td>\n",
              "      <td>-0.343518</td>\n",
              "      <td>-0.268824</td>\n",
              "      <td>1</td>\n",
              "      <td>0</td>\n",
              "    </tr>\n",
              "    <tr>\n",
              "      <th>497</th>\n",
              "      <td>-1.180703</td>\n",
              "      <td>-0.742935</td>\n",
              "      <td>-0.432735</td>\n",
              "      <td>-0.628474</td>\n",
              "      <td>1</td>\n",
              "      <td>0</td>\n",
              "    </tr>\n",
              "    <tr>\n",
              "      <th>498</th>\n",
              "      <td>-1.180703</td>\n",
              "      <td>1.196660</td>\n",
              "      <td>0.308614</td>\n",
              "      <td>1.114872</td>\n",
              "      <td>0</td>\n",
              "      <td>2</td>\n",
              "    </tr>\n",
              "    <tr>\n",
              "      <th>499</th>\n",
              "      <td>-1.180703</td>\n",
              "      <td>-0.365953</td>\n",
              "      <td>-0.364760</td>\n",
              "      <td>-0.407405</td>\n",
              "      <td>1</td>\n",
              "      <td>0</td>\n",
              "    </tr>\n",
              "  </tbody>\n",
              "</table>\n",
              "<p>500 rows × 6 columns</p>\n",
              "</div>"
            ],
            "text/plain": [
              "        Score   Members  ...  cluster_kmeans3  cluster_kmeans4\n",
              "0    4.386930  5.934423  ...                2                1\n",
              "1    3.839294  1.423079  ...                0                2\n",
              "2    3.428567  3.691085  ...                2                1\n",
              "3    3.246022  6.159804  ...                2                1\n",
              "4    3.200385  1.557527  ...                0                2\n",
              "..        ...       ...  ...              ...              ...\n",
              "495 -1.135067 -0.694027  ...                1                0\n",
              "496 -1.135067 -0.250126  ...                1                0\n",
              "497 -1.180703 -0.742935  ...                1                0\n",
              "498 -1.180703  1.196660  ...                0                2\n",
              "499 -1.180703 -0.365953  ...                1                0\n",
              "\n",
              "[500 rows x 6 columns]"
            ]
          },
          "metadata": {},
          "execution_count": 15
        }
      ]
    },
    {
      "cell_type": "code",
      "metadata": {
        "colab": {
          "base_uri": "https://localhost:8080/",
          "height": 880
        },
        "id": "-vciUBGx6n-_",
        "outputId": "6ef76a8c-e1d5-4345-88a3-ad37d150400e"
      },
      "source": [
        "# show plot\n",
        "plt.figure(figsize=(12,6))\n",
        "sns.scatterplot(data_cluster['Members'], data_cluster['Favorites'], hue=data_cluster['cluster_kmeans3'], palette=sns.color_palette('hls', 3))\n",
        "plt.title('KMeans 3 cluster')\n",
        "\n",
        "plt.figure(figsize=(12,6))\n",
        "sns.scatterplot(data_cluster['Members'], data_cluster['Favorites'], hue=data_cluster['cluster_kmeans4'], palette=sns.color_palette('hls', 4))\n",
        "plt.title('KMeans 4 cluster')\n",
        "\n",
        "plt.show()"
      ],
      "execution_count": 16,
      "outputs": [
        {
          "output_type": "stream",
          "name": "stderr",
          "text": [
            "/usr/local/lib/python3.7/dist-packages/seaborn/_decorators.py:43: FutureWarning: Pass the following variables as keyword args: x, y. From version 0.12, the only valid positional argument will be `data`, and passing other arguments without an explicit keyword will result in an error or misinterpretation.\n",
            "  FutureWarning\n",
            "/usr/local/lib/python3.7/dist-packages/seaborn/_decorators.py:43: FutureWarning: Pass the following variables as keyword args: x, y. From version 0.12, the only valid positional argument will be `data`, and passing other arguments without an explicit keyword will result in an error or misinterpretation.\n",
            "  FutureWarning\n"
          ]
        },
        {
          "output_type": "display_data",
          "data": {
            "image/png": "[encoded data removed]",
            "text/plain": [
              "<Figure size 864x432 with 1 Axes>"
            ]
          },
          "metadata": {
            "needs_background": "light"
          }
        },
        {
          "output_type": "display_data",
          "data": {
            "image/png": "[encoded data removed]",
            "text/plain": [
              "<Figure size 864x432 with 1 Axes>"
            ]
          },
          "metadata": {
            "needs_background": "light"
          }
        }
      ]
    },
    {
      "cell_type": "markdown",
      "metadata": {
        "id": "0pXIbdfzBlM9"
      },
      "source": [
        "# K-Medoids"
      ]
    },
    {
      "cell_type": "code",
      "metadata": {
        "colab": {
          "base_uri": "https://localhost:8080/"
        },
        "id": "6XmWCX31BnP0",
        "outputId": "3cce8f45-0cea-4d25-aa0b-2fd0cbadca5f"
      },
      "source": [
        "!pip install scikit-learn-extra\n",
        "from sklearn_extra.cluster import KMedoids"
      ],
      "execution_count": 17,
      "outputs": [
        {
          "output_type": "stream",
          "name": "stdout",
          "text": [
            "Requirement already satisfied: scikit-learn-extra in /usr/local/lib/python3.7/dist-packages (0.2.0)\n",
            "Requirement already satisfied: scikit-learn>=0.23.0 in /usr/local/lib/python3.7/dist-packages (from scikit-learn-extra) (0.24.2)\n",
            "Requirement already satisfied: numpy>=1.13.3 in /usr/local/lib/python3.7/dist-packages (from scikit-learn-extra) (1.19.5)\n",
            "Requirement already satisfied: scipy>=0.19.1 in /usr/local/lib/python3.7/dist-packages (from scikit-learn-extra) (1.4.1)\n",
            "Requirement already satisfied: joblib>=0.11 in /usr/local/lib/python3.7/dist-packages (from scikit-learn>=0.23.0->scikit-learn-extra) (1.0.1)\n",
            "Requirement already satisfied: threadpoolctl>=2.0.0 in /usr/local/lib/python3.7/dist-packages (from scikit-learn>=0.23.0->scikit-learn-extra) (2.2.0)\n"
          ]
        }
      ]
    },
    {
      "cell_type": "code",
      "metadata": {
        "colab": {
          "base_uri": "https://localhost:8080/",
          "height": 424
        },
        "id": "wX8yINIsCLTX",
        "outputId": "fb97c35a-d1ce-42fe-885b-a7098abdac91"
      },
      "source": [
        "model_kmedoids = KMedoids(n_clusters=4, random_state=0)\n",
        "model_kmedoids.fit(data)\n",
        "\n",
        "data_cluster['Cluster K-Medoids'] = model_kmedoids.labels_\n",
        "data_cluster"
      ],
      "execution_count": 18,
      "outputs": [
        {
          "output_type": "execute_result",
          "data": {
            "text/html": [
              "<div>\n",
              "<style scoped>\n",
              "    .dataframe tbody tr th:only-of-type {\n",
              "        vertical-align: middle;\n",
              "    }\n",
              "\n",
              "    .dataframe tbody tr th {\n",
              "        vertical-align: top;\n",
              "    }\n",
              "\n",
              "    .dataframe thead th {\n",
              "        text-align: right;\n",
              "    }\n",
              "</style>\n",
              "<table border=\"1\" class=\"dataframe\">\n",
              "  <thead>\n",
              "    <tr style=\"text-align: right;\">\n",
              "      <th></th>\n",
              "      <th>Score</th>\n",
              "      <th>Members</th>\n",
              "      <th>Favorites</th>\n",
              "      <th>Scored Voted By</th>\n",
              "      <th>cluster_kmeans3</th>\n",
              "      <th>cluster_kmeans4</th>\n",
              "      <th>Cluster K-Medoids</th>\n",
              "    </tr>\n",
              "  </thead>\n",
              "  <tbody>\n",
              "    <tr>\n",
              "      <th>0</th>\n",
              "      <td>4.386930</td>\n",
              "      <td>5.934423</td>\n",
              "      <td>9.680459</td>\n",
              "      <td>5.487777</td>\n",
              "      <td>2</td>\n",
              "      <td>1</td>\n",
              "      <td>3</td>\n",
              "    </tr>\n",
              "    <tr>\n",
              "      <th>1</th>\n",
              "      <td>3.839294</td>\n",
              "      <td>1.423079</td>\n",
              "      <td>2.505699</td>\n",
              "      <td>1.768726</td>\n",
              "      <td>0</td>\n",
              "      <td>2</td>\n",
              "      <td>3</td>\n",
              "    </tr>\n",
              "    <tr>\n",
              "      <th>2</th>\n",
              "      <td>3.428567</td>\n",
              "      <td>3.691085</td>\n",
              "      <td>3.862415</td>\n",
              "      <td>4.227771</td>\n",
              "      <td>2</td>\n",
              "      <td>1</td>\n",
              "      <td>3</td>\n",
              "    </tr>\n",
              "    <tr>\n",
              "      <th>3</th>\n",
              "      <td>3.246022</td>\n",
              "      <td>6.159804</td>\n",
              "      <td>11.823295</td>\n",
              "      <td>7.507801</td>\n",
              "      <td>2</td>\n",
              "      <td>1</td>\n",
              "      <td>3</td>\n",
              "    </tr>\n",
              "    <tr>\n",
              "      <th>4</th>\n",
              "      <td>3.200385</td>\n",
              "      <td>1.557527</td>\n",
              "      <td>1.184932</td>\n",
              "      <td>1.176234</td>\n",
              "      <td>0</td>\n",
              "      <td>2</td>\n",
              "      <td>3</td>\n",
              "    </tr>\n",
              "    <tr>\n",
              "      <th>...</th>\n",
              "      <td>...</td>\n",
              "      <td>...</td>\n",
              "      <td>...</td>\n",
              "      <td>...</td>\n",
              "      <td>...</td>\n",
              "      <td>...</td>\n",
              "      <td>...</td>\n",
              "    </tr>\n",
              "    <tr>\n",
              "      <th>495</th>\n",
              "      <td>-1.135067</td>\n",
              "      <td>-0.694027</td>\n",
              "      <td>-0.438454</td>\n",
              "      <td>-0.617493</td>\n",
              "      <td>1</td>\n",
              "      <td>0</td>\n",
              "      <td>1</td>\n",
              "    </tr>\n",
              "    <tr>\n",
              "      <th>496</th>\n",
              "      <td>-1.135067</td>\n",
              "      <td>-0.250126</td>\n",
              "      <td>-0.343518</td>\n",
              "      <td>-0.268824</td>\n",
              "      <td>1</td>\n",
              "      <td>0</td>\n",
              "      <td>1</td>\n",
              "    </tr>\n",
              "    <tr>\n",
              "      <th>497</th>\n",
              "      <td>-1.180703</td>\n",
              "      <td>-0.742935</td>\n",
              "      <td>-0.432735</td>\n",
              "      <td>-0.628474</td>\n",
              "      <td>1</td>\n",
              "      <td>0</td>\n",
              "      <td>1</td>\n",
              "    </tr>\n",
              "    <tr>\n",
              "      <th>498</th>\n",
              "      <td>-1.180703</td>\n",
              "      <td>1.196660</td>\n",
              "      <td>0.308614</td>\n",
              "      <td>1.114872</td>\n",
              "      <td>0</td>\n",
              "      <td>2</td>\n",
              "      <td>2</td>\n",
              "    </tr>\n",
              "    <tr>\n",
              "      <th>499</th>\n",
              "      <td>-1.180703</td>\n",
              "      <td>-0.365953</td>\n",
              "      <td>-0.364760</td>\n",
              "      <td>-0.407405</td>\n",
              "      <td>1</td>\n",
              "      <td>0</td>\n",
              "      <td>1</td>\n",
              "    </tr>\n",
              "  </tbody>\n",
              "</table>\n",
              "<p>500 rows × 7 columns</p>\n",
              "</div>"
            ],
            "text/plain": [
              "        Score   Members  ...  cluster_kmeans4  Cluster K-Medoids\n",
              "0    4.386930  5.934423  ...                1                  3\n",
              "1    3.839294  1.423079  ...                2                  3\n",
              "2    3.428567  3.691085  ...                1                  3\n",
              "3    3.246022  6.159804  ...                1                  3\n",
              "4    3.200385  1.557527  ...                2                  3\n",
              "..        ...       ...  ...              ...                ...\n",
              "495 -1.135067 -0.694027  ...                0                  1\n",
              "496 -1.135067 -0.250126  ...                0                  1\n",
              "497 -1.180703 -0.742935  ...                0                  1\n",
              "498 -1.180703  1.196660  ...                2                  2\n",
              "499 -1.180703 -0.365953  ...                0                  1\n",
              "\n",
              "[500 rows x 7 columns]"
            ]
          },
          "metadata": {},
          "execution_count": 18
        }
      ]
    },
    {
      "cell_type": "code",
      "metadata": {
        "colab": {
          "base_uri": "https://localhost:8080/",
          "height": 459
        },
        "id": "1XV-Q4TiDwde",
        "outputId": "48bbbe76-6074-4ae6-c42d-8516a6dd00d0"
      },
      "source": [
        "plt.figure(figsize=(12,6))\n",
        "sns.scatterplot(data_cluster['Members'], data_cluster['Favorites'], hue=data_cluster['Cluster K-Medoids'], palette=sns.color_palette('hls', 4))\n",
        "plt.title(' K-Medoids 4 cluster')\n",
        "plt.show()"
      ],
      "execution_count": 36,
      "outputs": [
        {
          "output_type": "stream",
          "name": "stderr",
          "text": [
            "/usr/local/lib/python3.7/dist-packages/seaborn/_decorators.py:43: FutureWarning: Pass the following variables as keyword args: x, y. From version 0.12, the only valid positional argument will be `data`, and passing other arguments without an explicit keyword will result in an error or misinterpretation.\n",
            "  FutureWarning\n"
          ]
        },
        {
          "output_type": "display_data",
          "data": {
            "image/png": "[encoded data removed]",
            "text/plain": [
              "<Figure size 864x432 with 1 Axes>"
            ]
          },
          "metadata": {
            "needs_background": "light"
          }
        }
      ]
    },
    {
      "cell_type": "markdown",
      "metadata": {
        "id": "EeYZUhS48fUj"
      },
      "source": [
        "# Hierarchy"
      ]
    },
    {
      "cell_type": "code",
      "metadata": {
        "colab": {
          "base_uri": "https://localhost:8080/",
          "height": 424
        },
        "id": "Fa7xk-j98hiy",
        "outputId": "9ff9e930-b11b-462f-bf82-bd36a5baf3a4"
      },
      "source": [
        "data"
      ],
      "execution_count": 19,
      "outputs": [
        {
          "output_type": "execute_result",
          "data": {
            "text/html": [
              "<div>\n",
              "<style scoped>\n",
              "    .dataframe tbody tr th:only-of-type {\n",
              "        vertical-align: middle;\n",
              "    }\n",
              "\n",
              "    .dataframe tbody tr th {\n",
              "        vertical-align: top;\n",
              "    }\n",
              "\n",
              "    .dataframe thead th {\n",
              "        text-align: right;\n",
              "    }\n",
              "</style>\n",
              "<table border=\"1\" class=\"dataframe\">\n",
              "  <thead>\n",
              "    <tr style=\"text-align: right;\">\n",
              "      <th></th>\n",
              "      <th>Score</th>\n",
              "      <th>Members</th>\n",
              "      <th>Favorites</th>\n",
              "      <th>Scored Voted By</th>\n",
              "    </tr>\n",
              "  </thead>\n",
              "  <tbody>\n",
              "    <tr>\n",
              "      <th>0</th>\n",
              "      <td>4.386930</td>\n",
              "      <td>5.934423</td>\n",
              "      <td>9.680459</td>\n",
              "      <td>5.487777</td>\n",
              "    </tr>\n",
              "    <tr>\n",
              "      <th>1</th>\n",
              "      <td>3.839294</td>\n",
              "      <td>1.423079</td>\n",
              "      <td>2.505699</td>\n",
              "      <td>1.768726</td>\n",
              "    </tr>\n",
              "    <tr>\n",
              "      <th>2</th>\n",
              "      <td>3.428567</td>\n",
              "      <td>3.691085</td>\n",
              "      <td>3.862415</td>\n",
              "      <td>4.227771</td>\n",
              "    </tr>\n",
              "    <tr>\n",
              "      <th>3</th>\n",
              "      <td>3.246022</td>\n",
              "      <td>6.159804</td>\n",
              "      <td>11.823295</td>\n",
              "      <td>7.507801</td>\n",
              "    </tr>\n",
              "    <tr>\n",
              "      <th>4</th>\n",
              "      <td>3.200385</td>\n",
              "      <td>1.557527</td>\n",
              "      <td>1.184932</td>\n",
              "      <td>1.176234</td>\n",
              "    </tr>\n",
              "    <tr>\n",
              "      <th>...</th>\n",
              "      <td>...</td>\n",
              "      <td>...</td>\n",
              "      <td>...</td>\n",
              "      <td>...</td>\n",
              "    </tr>\n",
              "    <tr>\n",
              "      <th>495</th>\n",
              "      <td>-1.135067</td>\n",
              "      <td>-0.694027</td>\n",
              "      <td>-0.438454</td>\n",
              "      <td>-0.617493</td>\n",
              "    </tr>\n",
              "    <tr>\n",
              "      <th>496</th>\n",
              "      <td>-1.135067</td>\n",
              "      <td>-0.250126</td>\n",
              "      <td>-0.343518</td>\n",
              "      <td>-0.268824</td>\n",
              "    </tr>\n",
              "    <tr>\n",
              "      <th>497</th>\n",
              "      <td>-1.180703</td>\n",
              "      <td>-0.742935</td>\n",
              "      <td>-0.432735</td>\n",
              "      <td>-0.628474</td>\n",
              "    </tr>\n",
              "    <tr>\n",
              "      <th>498</th>\n",
              "      <td>-1.180703</td>\n",
              "      <td>1.196660</td>\n",
              "      <td>0.308614</td>\n",
              "      <td>1.114872</td>\n",
              "    </tr>\n",
              "    <tr>\n",
              "      <th>499</th>\n",
              "      <td>-1.180703</td>\n",
              "      <td>-0.365953</td>\n",
              "      <td>-0.364760</td>\n",
              "      <td>-0.407405</td>\n",
              "    </tr>\n",
              "  </tbody>\n",
              "</table>\n",
              "<p>500 rows × 4 columns</p>\n",
              "</div>"
            ],
            "text/plain": [
              "        Score   Members  Favorites  Scored Voted By\n",
              "0    4.386930  5.934423   9.680459         5.487777\n",
              "1    3.839294  1.423079   2.505699         1.768726\n",
              "2    3.428567  3.691085   3.862415         4.227771\n",
              "3    3.246022  6.159804  11.823295         7.507801\n",
              "4    3.200385  1.557527   1.184932         1.176234\n",
              "..        ...       ...        ...              ...\n",
              "495 -1.135067 -0.694027  -0.438454        -0.617493\n",
              "496 -1.135067 -0.250126  -0.343518        -0.268824\n",
              "497 -1.180703 -0.742935  -0.432735        -0.628474\n",
              "498 -1.180703  1.196660   0.308614         1.114872\n",
              "499 -1.180703 -0.365953  -0.364760        -0.407405\n",
              "\n",
              "[500 rows x 4 columns]"
            ]
          },
          "metadata": {},
          "execution_count": 19
        }
      ]
    },
    {
      "cell_type": "code",
      "metadata": {
        "id": "t5pNqE1y7hPp"
      },
      "source": [
        "from scipy.cluster.hierarchy import linkage\n",
        "from scipy.cluster.hierarchy import dendrogram\n",
        "from scipy.cluster.hierarchy import cut_tree"
      ],
      "execution_count": 20,
      "outputs": []
    },
    {
      "cell_type": "code",
      "metadata": {
        "colab": {
          "base_uri": "https://localhost:8080/",
          "height": 281
        },
        "id": "xMcL_F0S8lR3",
        "outputId": "aed932cc-9163-4789-d824-cbc9f5bf6173"
      },
      "source": [
        "# single linkage\n",
        "mergings_single = linkage(data, method=\"single\", metric=\"euclidean\")\n",
        "dendrogram(mergings_single)\n",
        "plt.title(\"Single Linkage\")\n",
        "plt.show()"
      ],
      "execution_count": 21,
      "outputs": [
        {
          "output_type": "display_data",
          "data": {
            "image/png": "[encoded data removed]",
            "text/plain": [
              "<Figure size 432x288 with 1 Axes>"
            ]
          },
          "metadata": {
            "needs_background": "light"
          }
        }
      ]
    },
    {
      "cell_type": "code",
      "metadata": {
        "colab": {
          "base_uri": "https://localhost:8080/",
          "height": 281
        },
        "id": "vOYViNi48zXu",
        "outputId": "86f29710-c8dd-44e7-9b2c-d8749569f9c4"
      },
      "source": [
        "# complete linkage\n",
        "mergings_complete = linkage(data, method=\"complete\", metric='euclidean')\n",
        "dendrogram(mergings_complete)\n",
        "plt.title(\"Complete Linkage\")\n",
        "plt.show()"
      ],
      "execution_count": 22,
      "outputs": [
        {
          "output_type": "display_data",
          "data": {
            "image/png": "[encoded data removed]",
            "text/plain": [
              "<Figure size 432x288 with 1 Axes>"
            ]
          },
          "metadata": {
            "needs_background": "light"
          }
        }
      ]
    },
    {
      "cell_type": "code",
      "metadata": {
        "colab": {
          "base_uri": "https://localhost:8080/"
        },
        "id": "Xvk4O3fg8-3J",
        "outputId": "112952ed-2fb3-43c2-f2aa-adf87a518bd8"
      },
      "source": [
        "# 3 clusters\n",
        "cluster_hierarchy = cut_tree(mergings_complete, n_clusters=3).reshape(-1, )\n",
        "cluster_hierarchy"
      ],
      "execution_count": 23,
      "outputs": [
        {
          "output_type": "execute_result",
          "data": {
            "text/plain": [
              "array([0, 1, 2, 0, 1, 1, 2, 1, 1, 1, 1, 1, 1, 1, 1, 1, 1, 1, 1, 1, 1, 1,\n",
              "       2, 1, 1, 1, 1, 1, 1, 1, 2, 1, 1, 1, 1, 2, 1, 1, 1, 1, 1, 1, 1, 1,\n",
              "       1, 1, 1, 1, 1, 1, 1, 1, 1, 1, 1, 1, 1, 1, 1, 1, 1, 1, 1, 1, 1, 1,\n",
              "       1, 1, 1, 1, 1, 1, 1, 1, 1, 1, 1, 1, 2, 1, 1, 1, 1, 1, 1, 1, 1, 1,\n",
              "       1, 1, 1, 1, 1, 1, 2, 1, 1, 1, 1, 1, 1, 1, 1, 1, 1, 1, 1, 1, 1, 1,\n",
              "       1, 1, 1, 1, 1, 1, 1, 1, 1, 1, 1, 1, 1, 1, 1, 1, 1, 1, 1, 1, 1, 1,\n",
              "       1, 1, 1, 1, 1, 1, 1, 1, 1, 1, 1, 1, 1, 1, 1, 1, 1, 1, 1, 1, 1, 1,\n",
              "       1, 1, 1, 1, 1, 1, 1, 2, 1, 1, 1, 1, 1, 1, 1, 1, 1, 1, 1, 1, 1, 1,\n",
              "       1, 1, 1, 1, 1, 1, 1, 1, 1, 1, 1, 1, 1, 1, 1, 1, 1, 1, 1, 1, 1, 1,\n",
              "       1, 1, 1, 1, 1, 1, 1, 1, 1, 1, 1, 1, 1, 1, 1, 1, 1, 1, 1, 1, 1, 1,\n",
              "       1, 1, 1, 1, 1, 1, 1, 1, 1, 1, 1, 1, 1, 1, 1, 1, 1, 1, 1, 1, 1, 1,\n",
              "       1, 1, 1, 1, 1, 1, 1, 1, 1, 1, 1, 1, 1, 1, 1, 1, 1, 1, 1, 1, 1, 1,\n",
              "       1, 1, 1, 1, 1, 1, 1, 1, 1, 1, 1, 1, 1, 1, 1, 1, 1, 1, 1, 1, 1, 1,\n",
              "       1, 1, 1, 1, 1, 1, 1, 1, 1, 1, 1, 1, 1, 1, 1, 1, 1, 1, 1, 1, 1, 1,\n",
              "       1, 1, 1, 1, 1, 1, 1, 1, 1, 1, 1, 1, 1, 1, 1, 1, 1, 1, 1, 1, 1, 1,\n",
              "       1, 1, 1, 1, 1, 1, 1, 1, 1, 1, 1, 1, 1, 1, 1, 1, 1, 1, 1, 1, 1, 1,\n",
              "       1, 1, 1, 1, 1, 1, 1, 1, 1, 1, 1, 1, 1, 1, 1, 1, 1, 1, 1, 1, 1, 1,\n",
              "       1, 1, 1, 1, 1, 1, 1, 1, 1, 1, 1, 1, 1, 1, 1, 1, 1, 1, 1, 1, 1, 1,\n",
              "       1, 1, 1, 1, 1, 1, 1, 1, 1, 1, 1, 1, 1, 1, 1, 1, 1, 1, 1, 1, 1, 1,\n",
              "       1, 1, 1, 1, 1, 1, 1, 1, 1, 1, 1, 1, 1, 1, 1, 1, 1, 1, 1, 1, 1, 1,\n",
              "       1, 1, 1, 1, 1, 1, 1, 1, 1, 1, 1, 1, 1, 1, 1, 1, 1, 1, 1, 1, 1, 1,\n",
              "       1, 1, 1, 1, 1, 1, 1, 1, 1, 1, 1, 1, 1, 1, 1, 1, 1, 1, 1, 1, 1, 1,\n",
              "       1, 1, 1, 1, 1, 1, 1, 1, 1, 1, 1, 1, 1, 1, 1, 1])"
            ]
          },
          "metadata": {},
          "execution_count": 23
        }
      ]
    },
    {
      "cell_type": "code",
      "metadata": {
        "colab": {
          "base_uri": "https://localhost:8080/",
          "height": 424
        },
        "id": "tmHRQHtt9K9W",
        "outputId": "9ed7631f-7d6d-4014-fd83-097e200a4400"
      },
      "source": [
        "# assign cluster labels\n",
        "data_cluster['cluster_hierarchy'] = cluster_hierarchy\n",
        "data_cluster"
      ],
      "execution_count": 24,
      "outputs": [
        {
          "output_type": "execute_result",
          "data": {
            "text/html": [
              "<div>\n",
              "<style scoped>\n",
              "    .dataframe tbody tr th:only-of-type {\n",
              "        vertical-align: middle;\n",
              "    }\n",
              "\n",
              "    .dataframe tbody tr th {\n",
              "        vertical-align: top;\n",
              "    }\n",
              "\n",
              "    .dataframe thead th {\n",
              "        text-align: right;\n",
              "    }\n",
              "</style>\n",
              "<table border=\"1\" class=\"dataframe\">\n",
              "  <thead>\n",
              "    <tr style=\"text-align: right;\">\n",
              "      <th></th>\n",
              "      <th>Score</th>\n",
              "      <th>Members</th>\n",
              "      <th>Favorites</th>\n",
              "      <th>Scored Voted By</th>\n",
              "      <th>cluster_kmeans3</th>\n",
              "      <th>cluster_kmeans4</th>\n",
              "      <th>Cluster K-Medoids</th>\n",
              "      <th>cluster_hierarchy</th>\n",
              "    </tr>\n",
              "  </thead>\n",
              "  <tbody>\n",
              "    <tr>\n",
              "      <th>0</th>\n",
              "      <td>4.386930</td>\n",
              "      <td>5.934423</td>\n",
              "      <td>9.680459</td>\n",
              "      <td>5.487777</td>\n",
              "      <td>2</td>\n",
              "      <td>1</td>\n",
              "      <td>3</td>\n",
              "      <td>0</td>\n",
              "    </tr>\n",
              "    <tr>\n",
              "      <th>1</th>\n",
              "      <td>3.839294</td>\n",
              "      <td>1.423079</td>\n",
              "      <td>2.505699</td>\n",
              "      <td>1.768726</td>\n",
              "      <td>0</td>\n",
              "      <td>2</td>\n",
              "      <td>3</td>\n",
              "      <td>1</td>\n",
              "    </tr>\n",
              "    <tr>\n",
              "      <th>2</th>\n",
              "      <td>3.428567</td>\n",
              "      <td>3.691085</td>\n",
              "      <td>3.862415</td>\n",
              "      <td>4.227771</td>\n",
              "      <td>2</td>\n",
              "      <td>1</td>\n",
              "      <td>3</td>\n",
              "      <td>2</td>\n",
              "    </tr>\n",
              "    <tr>\n",
              "      <th>3</th>\n",
              "      <td>3.246022</td>\n",
              "      <td>6.159804</td>\n",
              "      <td>11.823295</td>\n",
              "      <td>7.507801</td>\n",
              "      <td>2</td>\n",
              "      <td>1</td>\n",
              "      <td>3</td>\n",
              "      <td>0</td>\n",
              "    </tr>\n",
              "    <tr>\n",
              "      <th>4</th>\n",
              "      <td>3.200385</td>\n",
              "      <td>1.557527</td>\n",
              "      <td>1.184932</td>\n",
              "      <td>1.176234</td>\n",
              "      <td>0</td>\n",
              "      <td>2</td>\n",
              "      <td>3</td>\n",
              "      <td>1</td>\n",
              "    </tr>\n",
              "    <tr>\n",
              "      <th>...</th>\n",
              "      <td>...</td>\n",
              "      <td>...</td>\n",
              "      <td>...</td>\n",
              "      <td>...</td>\n",
              "      <td>...</td>\n",
              "      <td>...</td>\n",
              "      <td>...</td>\n",
              "      <td>...</td>\n",
              "    </tr>\n",
              "    <tr>\n",
              "      <th>495</th>\n",
              "      <td>-1.135067</td>\n",
              "      <td>-0.694027</td>\n",
              "      <td>-0.438454</td>\n",
              "      <td>-0.617493</td>\n",
              "      <td>1</td>\n",
              "      <td>0</td>\n",
              "      <td>1</td>\n",
              "      <td>1</td>\n",
              "    </tr>\n",
              "    <tr>\n",
              "      <th>496</th>\n",
              "      <td>-1.135067</td>\n",
              "      <td>-0.250126</td>\n",
              "      <td>-0.343518</td>\n",
              "      <td>-0.268824</td>\n",
              "      <td>1</td>\n",
              "      <td>0</td>\n",
              "      <td>1</td>\n",
              "      <td>1</td>\n",
              "    </tr>\n",
              "    <tr>\n",
              "      <th>497</th>\n",
              "      <td>-1.180703</td>\n",
              "      <td>-0.742935</td>\n",
              "      <td>-0.432735</td>\n",
              "      <td>-0.628474</td>\n",
              "      <td>1</td>\n",
              "      <td>0</td>\n",
              "      <td>1</td>\n",
              "      <td>1</td>\n",
              "    </tr>\n",
              "    <tr>\n",
              "      <th>498</th>\n",
              "      <td>-1.180703</td>\n",
              "      <td>1.196660</td>\n",
              "      <td>0.308614</td>\n",
              "      <td>1.114872</td>\n",
              "      <td>0</td>\n",
              "      <td>2</td>\n",
              "      <td>2</td>\n",
              "      <td>1</td>\n",
              "    </tr>\n",
              "    <tr>\n",
              "      <th>499</th>\n",
              "      <td>-1.180703</td>\n",
              "      <td>-0.365953</td>\n",
              "      <td>-0.364760</td>\n",
              "      <td>-0.407405</td>\n",
              "      <td>1</td>\n",
              "      <td>0</td>\n",
              "      <td>1</td>\n",
              "      <td>1</td>\n",
              "    </tr>\n",
              "  </tbody>\n",
              "</table>\n",
              "<p>500 rows × 8 columns</p>\n",
              "</div>"
            ],
            "text/plain": [
              "        Score   Members  ...  Cluster K-Medoids  cluster_hierarchy\n",
              "0    4.386930  5.934423  ...                  3                  0\n",
              "1    3.839294  1.423079  ...                  3                  1\n",
              "2    3.428567  3.691085  ...                  3                  2\n",
              "3    3.246022  6.159804  ...                  3                  0\n",
              "4    3.200385  1.557527  ...                  3                  1\n",
              "..        ...       ...  ...                ...                ...\n",
              "495 -1.135067 -0.694027  ...                  1                  1\n",
              "496 -1.135067 -0.250126  ...                  1                  1\n",
              "497 -1.180703 -0.742935  ...                  1                  1\n",
              "498 -1.180703  1.196660  ...                  2                  1\n",
              "499 -1.180703 -0.365953  ...                  1                  1\n",
              "\n",
              "[500 rows x 8 columns]"
            ]
          },
          "metadata": {},
          "execution_count": 24
        }
      ]
    },
    {
      "cell_type": "code",
      "metadata": {
        "colab": {
          "base_uri": "https://localhost:8080/",
          "height": 476
        },
        "id": "riptVpKy9Njc",
        "outputId": "74e65fc5-753d-446d-9c1f-a0c069bb2846"
      },
      "source": [
        "# show plot\n",
        "plt.figure(figsize=(12,6))\n",
        "sns.scatterplot(data_cluster['Members'], data_cluster['Favorites'], hue=data_cluster['cluster_hierarchy'], palette=sns.color_palette('hls',3))\n",
        "plt.title('Hierarchical Clustering')"
      ],
      "execution_count": 38,
      "outputs": [
        {
          "output_type": "stream",
          "name": "stderr",
          "text": [
            "/usr/local/lib/python3.7/dist-packages/seaborn/_decorators.py:43: FutureWarning: Pass the following variables as keyword args: x, y. From version 0.12, the only valid positional argument will be `data`, and passing other arguments without an explicit keyword will result in an error or misinterpretation.\n",
            "  FutureWarning\n"
          ]
        },
        {
          "output_type": "execute_result",
          "data": {
            "text/plain": [
              "Text(0.5, 1.0, 'Hierarchical Clustering')"
            ]
          },
          "metadata": {},
          "execution_count": 38
        },
        {
          "output_type": "display_data",
          "data": {
            "image/png": "[encoded data removed]",
            "text/plain": [
              "<Figure size 864x432 with 1 Axes>"
            ]
          },
          "metadata": {
            "needs_background": "light"
          }
        }
      ]
    },
    {
      "cell_type": "markdown",
      "metadata": {
        "id": "cdcn5x0Y94_X"
      },
      "source": [
        "# DBSCAN"
      ]
    },
    {
      "cell_type": "code",
      "metadata": {
        "id": "GmbrDli-907p"
      },
      "source": [
        "from sklearn.cluster import DBSCAN"
      ],
      "execution_count": 26,
      "outputs": []
    },
    {
      "cell_type": "code",
      "metadata": {
        "colab": {
          "base_uri": "https://localhost:8080/",
          "height": 424
        },
        "id": "AzTPhHOC9-CK",
        "outputId": "79c684cf-a842-4a14-e82b-ccf5fb0f70c9"
      },
      "source": [
        "data"
      ],
      "execution_count": 27,
      "outputs": [
        {
          "output_type": "execute_result",
          "data": {
            "text/html": [
              "<div>\n",
              "<style scoped>\n",
              "    .dataframe tbody tr th:only-of-type {\n",
              "        vertical-align: middle;\n",
              "    }\n",
              "\n",
              "    .dataframe tbody tr th {\n",
              "        vertical-align: top;\n",
              "    }\n",
              "\n",
              "    .dataframe thead th {\n",
              "        text-align: right;\n",
              "    }\n",
              "</style>\n",
              "<table border=\"1\" class=\"dataframe\">\n",
              "  <thead>\n",
              "    <tr style=\"text-align: right;\">\n",
              "      <th></th>\n",
              "      <th>Score</th>\n",
              "      <th>Members</th>\n",
              "      <th>Favorites</th>\n",
              "      <th>Scored Voted By</th>\n",
              "    </tr>\n",
              "  </thead>\n",
              "  <tbody>\n",
              "    <tr>\n",
              "      <th>0</th>\n",
              "      <td>4.386930</td>\n",
              "      <td>5.934423</td>\n",
              "      <td>9.680459</td>\n",
              "      <td>5.487777</td>\n",
              "    </tr>\n",
              "    <tr>\n",
              "      <th>1</th>\n",
              "      <td>3.839294</td>\n",
              "      <td>1.423079</td>\n",
              "      <td>2.505699</td>\n",
              "      <td>1.768726</td>\n",
              "    </tr>\n",
              "    <tr>\n",
              "      <th>2</th>\n",
              "      <td>3.428567</td>\n",
              "      <td>3.691085</td>\n",
              "      <td>3.862415</td>\n",
              "      <td>4.227771</td>\n",
              "    </tr>\n",
              "    <tr>\n",
              "      <th>3</th>\n",
              "      <td>3.246022</td>\n",
              "      <td>6.159804</td>\n",
              "      <td>11.823295</td>\n",
              "      <td>7.507801</td>\n",
              "    </tr>\n",
              "    <tr>\n",
              "      <th>4</th>\n",
              "      <td>3.200385</td>\n",
              "      <td>1.557527</td>\n",
              "      <td>1.184932</td>\n",
              "      <td>1.176234</td>\n",
              "    </tr>\n",
              "    <tr>\n",
              "      <th>...</th>\n",
              "      <td>...</td>\n",
              "      <td>...</td>\n",
              "      <td>...</td>\n",
              "      <td>...</td>\n",
              "    </tr>\n",
              "    <tr>\n",
              "      <th>495</th>\n",
              "      <td>-1.135067</td>\n",
              "      <td>-0.694027</td>\n",
              "      <td>-0.438454</td>\n",
              "      <td>-0.617493</td>\n",
              "    </tr>\n",
              "    <tr>\n",
              "      <th>496</th>\n",
              "      <td>-1.135067</td>\n",
              "      <td>-0.250126</td>\n",
              "      <td>-0.343518</td>\n",
              "      <td>-0.268824</td>\n",
              "    </tr>\n",
              "    <tr>\n",
              "      <th>497</th>\n",
              "      <td>-1.180703</td>\n",
              "      <td>-0.742935</td>\n",
              "      <td>-0.432735</td>\n",
              "      <td>-0.628474</td>\n",
              "    </tr>\n",
              "    <tr>\n",
              "      <th>498</th>\n",
              "      <td>-1.180703</td>\n",
              "      <td>1.196660</td>\n",
              "      <td>0.308614</td>\n",
              "      <td>1.114872</td>\n",
              "    </tr>\n",
              "    <tr>\n",
              "      <th>499</th>\n",
              "      <td>-1.180703</td>\n",
              "      <td>-0.365953</td>\n",
              "      <td>-0.364760</td>\n",
              "      <td>-0.407405</td>\n",
              "    </tr>\n",
              "  </tbody>\n",
              "</table>\n",
              "<p>500 rows × 4 columns</p>\n",
              "</div>"
            ],
            "text/plain": [
              "        Score   Members  Favorites  Scored Voted By\n",
              "0    4.386930  5.934423   9.680459         5.487777\n",
              "1    3.839294  1.423079   2.505699         1.768726\n",
              "2    3.428567  3.691085   3.862415         4.227771\n",
              "3    3.246022  6.159804  11.823295         7.507801\n",
              "4    3.200385  1.557527   1.184932         1.176234\n",
              "..        ...       ...        ...              ...\n",
              "495 -1.135067 -0.694027  -0.438454        -0.617493\n",
              "496 -1.135067 -0.250126  -0.343518        -0.268824\n",
              "497 -1.180703 -0.742935  -0.432735        -0.628474\n",
              "498 -1.180703  1.196660   0.308614         1.114872\n",
              "499 -1.180703 -0.365953  -0.364760        -0.407405\n",
              "\n",
              "[500 rows x 4 columns]"
            ]
          },
          "metadata": {},
          "execution_count": 27
        }
      ]
    },
    {
      "cell_type": "code",
      "metadata": {
        "colab": {
          "base_uri": "https://localhost:8080/"
        },
        "id": "FL4e_2ZD9-aR",
        "outputId": "6afe21b8-49d7-45e8-aedd-d9632f0ce95b"
      },
      "source": [
        "# create an object\n",
        "db = DBSCAN(eps=0.7, min_samples=5, metric='euclidean')\n",
        "\n",
        "# fit the model\n",
        "db.fit(data)"
      ],
      "execution_count": 28,
      "outputs": [
        {
          "output_type": "execute_result",
          "data": {
            "text/plain": [
              "DBSCAN(eps=0.7)"
            ]
          },
          "metadata": {},
          "execution_count": 28
        }
      ]
    },
    {
      "cell_type": "code",
      "metadata": {
        "colab": {
          "base_uri": "https://localhost:8080/",
          "height": 424
        },
        "id": "rj5IgHId-KHx",
        "outputId": "9c58e25f-ef78-4c5d-c688-0975ac734a69"
      },
      "source": [
        "# assign cluster labels\n",
        "data_cluster['cluster_dbscan'] = db.labels_\n",
        "data_cluster"
      ],
      "execution_count": 29,
      "outputs": [
        {
          "output_type": "execute_result",
          "data": {
            "text/html": [
              "<div>\n",
              "<style scoped>\n",
              "    .dataframe tbody tr th:only-of-type {\n",
              "        vertical-align: middle;\n",
              "    }\n",
              "\n",
              "    .dataframe tbody tr th {\n",
              "        vertical-align: top;\n",
              "    }\n",
              "\n",
              "    .dataframe thead th {\n",
              "        text-align: right;\n",
              "    }\n",
              "</style>\n",
              "<table border=\"1\" class=\"dataframe\">\n",
              "  <thead>\n",
              "    <tr style=\"text-align: right;\">\n",
              "      <th></th>\n",
              "      <th>Score</th>\n",
              "      <th>Members</th>\n",
              "      <th>Favorites</th>\n",
              "      <th>Scored Voted By</th>\n",
              "      <th>cluster_kmeans3</th>\n",
              "      <th>cluster_kmeans4</th>\n",
              "      <th>Cluster K-Medoids</th>\n",
              "      <th>cluster_hierarchy</th>\n",
              "      <th>cluster_dbscan</th>\n",
              "    </tr>\n",
              "  </thead>\n",
              "  <tbody>\n",
              "    <tr>\n",
              "      <th>0</th>\n",
              "      <td>4.386930</td>\n",
              "      <td>5.934423</td>\n",
              "      <td>9.680459</td>\n",
              "      <td>5.487777</td>\n",
              "      <td>2</td>\n",
              "      <td>1</td>\n",
              "      <td>3</td>\n",
              "      <td>0</td>\n",
              "      <td>-1</td>\n",
              "    </tr>\n",
              "    <tr>\n",
              "      <th>1</th>\n",
              "      <td>3.839294</td>\n",
              "      <td>1.423079</td>\n",
              "      <td>2.505699</td>\n",
              "      <td>1.768726</td>\n",
              "      <td>0</td>\n",
              "      <td>2</td>\n",
              "      <td>3</td>\n",
              "      <td>1</td>\n",
              "      <td>-1</td>\n",
              "    </tr>\n",
              "    <tr>\n",
              "      <th>2</th>\n",
              "      <td>3.428567</td>\n",
              "      <td>3.691085</td>\n",
              "      <td>3.862415</td>\n",
              "      <td>4.227771</td>\n",
              "      <td>2</td>\n",
              "      <td>1</td>\n",
              "      <td>3</td>\n",
              "      <td>2</td>\n",
              "      <td>-1</td>\n",
              "    </tr>\n",
              "    <tr>\n",
              "      <th>3</th>\n",
              "      <td>3.246022</td>\n",
              "      <td>6.159804</td>\n",
              "      <td>11.823295</td>\n",
              "      <td>7.507801</td>\n",
              "      <td>2</td>\n",
              "      <td>1</td>\n",
              "      <td>3</td>\n",
              "      <td>0</td>\n",
              "      <td>-1</td>\n",
              "    </tr>\n",
              "    <tr>\n",
              "      <th>4</th>\n",
              "      <td>3.200385</td>\n",
              "      <td>1.557527</td>\n",
              "      <td>1.184932</td>\n",
              "      <td>1.176234</td>\n",
              "      <td>0</td>\n",
              "      <td>2</td>\n",
              "      <td>3</td>\n",
              "      <td>1</td>\n",
              "      <td>0</td>\n",
              "    </tr>\n",
              "    <tr>\n",
              "      <th>...</th>\n",
              "      <td>...</td>\n",
              "      <td>...</td>\n",
              "      <td>...</td>\n",
              "      <td>...</td>\n",
              "      <td>...</td>\n",
              "      <td>...</td>\n",
              "      <td>...</td>\n",
              "      <td>...</td>\n",
              "      <td>...</td>\n",
              "    </tr>\n",
              "    <tr>\n",
              "      <th>495</th>\n",
              "      <td>-1.135067</td>\n",
              "      <td>-0.694027</td>\n",
              "      <td>-0.438454</td>\n",
              "      <td>-0.617493</td>\n",
              "      <td>1</td>\n",
              "      <td>0</td>\n",
              "      <td>1</td>\n",
              "      <td>1</td>\n",
              "      <td>1</td>\n",
              "    </tr>\n",
              "    <tr>\n",
              "      <th>496</th>\n",
              "      <td>-1.135067</td>\n",
              "      <td>-0.250126</td>\n",
              "      <td>-0.343518</td>\n",
              "      <td>-0.268824</td>\n",
              "      <td>1</td>\n",
              "      <td>0</td>\n",
              "      <td>1</td>\n",
              "      <td>1</td>\n",
              "      <td>1</td>\n",
              "    </tr>\n",
              "    <tr>\n",
              "      <th>497</th>\n",
              "      <td>-1.180703</td>\n",
              "      <td>-0.742935</td>\n",
              "      <td>-0.432735</td>\n",
              "      <td>-0.628474</td>\n",
              "      <td>1</td>\n",
              "      <td>0</td>\n",
              "      <td>1</td>\n",
              "      <td>1</td>\n",
              "      <td>1</td>\n",
              "    </tr>\n",
              "    <tr>\n",
              "      <th>498</th>\n",
              "      <td>-1.180703</td>\n",
              "      <td>1.196660</td>\n",
              "      <td>0.308614</td>\n",
              "      <td>1.114872</td>\n",
              "      <td>0</td>\n",
              "      <td>2</td>\n",
              "      <td>2</td>\n",
              "      <td>1</td>\n",
              "      <td>1</td>\n",
              "    </tr>\n",
              "    <tr>\n",
              "      <th>499</th>\n",
              "      <td>-1.180703</td>\n",
              "      <td>-0.365953</td>\n",
              "      <td>-0.364760</td>\n",
              "      <td>-0.407405</td>\n",
              "      <td>1</td>\n",
              "      <td>0</td>\n",
              "      <td>1</td>\n",
              "      <td>1</td>\n",
              "      <td>1</td>\n",
              "    </tr>\n",
              "  </tbody>\n",
              "</table>\n",
              "<p>500 rows × 9 columns</p>\n",
              "</div>"
            ],
            "text/plain": [
              "        Score   Members  ...  cluster_hierarchy  cluster_dbscan\n",
              "0    4.386930  5.934423  ...                  0              -1\n",
              "1    3.839294  1.423079  ...                  1              -1\n",
              "2    3.428567  3.691085  ...                  2              -1\n",
              "3    3.246022  6.159804  ...                  0              -1\n",
              "4    3.200385  1.557527  ...                  1               0\n",
              "..        ...       ...  ...                ...             ...\n",
              "495 -1.135067 -0.694027  ...                  1               1\n",
              "496 -1.135067 -0.250126  ...                  1               1\n",
              "497 -1.180703 -0.742935  ...                  1               1\n",
              "498 -1.180703  1.196660  ...                  1               1\n",
              "499 -1.180703 -0.365953  ...                  1               1\n",
              "\n",
              "[500 rows x 9 columns]"
            ]
          },
          "metadata": {},
          "execution_count": 29
        }
      ]
    },
    {
      "cell_type": "code",
      "metadata": {
        "colab": {
          "base_uri": "https://localhost:8080/",
          "height": 301
        },
        "id": "A3L4-2GT-QJX",
        "outputId": "76fa480e-a974-42aa-ef2f-5337c19db858"
      },
      "source": [
        "data_cluster.describe()"
      ],
      "execution_count": 30,
      "outputs": [
        {
          "output_type": "execute_result",
          "data": {
            "text/html": [
              "<div>\n",
              "<style scoped>\n",
              "    .dataframe tbody tr th:only-of-type {\n",
              "        vertical-align: middle;\n",
              "    }\n",
              "\n",
              "    .dataframe tbody tr th {\n",
              "        vertical-align: top;\n",
              "    }\n",
              "\n",
              "    .dataframe thead th {\n",
              "        text-align: right;\n",
              "    }\n",
              "</style>\n",
              "<table border=\"1\" class=\"dataframe\">\n",
              "  <thead>\n",
              "    <tr style=\"text-align: right;\">\n",
              "      <th></th>\n",
              "      <th>Score</th>\n",
              "      <th>Members</th>\n",
              "      <th>Favorites</th>\n",
              "      <th>Scored Voted By</th>\n",
              "      <th>cluster_kmeans3</th>\n",
              "      <th>cluster_kmeans4</th>\n",
              "      <th>Cluster K-Medoids</th>\n",
              "      <th>cluster_hierarchy</th>\n",
              "      <th>cluster_dbscan</th>\n",
              "    </tr>\n",
              "  </thead>\n",
              "  <tbody>\n",
              "    <tr>\n",
              "      <th>count</th>\n",
              "      <td>5.000000e+02</td>\n",
              "      <td>5.000000e+02</td>\n",
              "      <td>5.000000e+02</td>\n",
              "      <td>5.000000e+02</td>\n",
              "      <td>500.000000</td>\n",
              "      <td>500.000000</td>\n",
              "      <td>500.00000</td>\n",
              "      <td>500.000000</td>\n",
              "      <td>500.000000</td>\n",
              "    </tr>\n",
              "    <tr>\n",
              "      <th>mean</th>\n",
              "      <td>-7.213785e-15</td>\n",
              "      <td>3.808065e-17</td>\n",
              "      <td>-4.996004e-17</td>\n",
              "      <td>9.314771e-17</td>\n",
              "      <td>0.818000</td>\n",
              "      <td>0.916000</td>\n",
              "      <td>1.17200</td>\n",
              "      <td>1.012000</td>\n",
              "      <td>0.912000</td>\n",
              "    </tr>\n",
              "    <tr>\n",
              "      <th>std</th>\n",
              "      <td>1.001002e+00</td>\n",
              "      <td>1.001002e+00</td>\n",
              "      <td>1.001002e+00</td>\n",
              "      <td>1.001002e+00</td>\n",
              "      <td>0.435034</td>\n",
              "      <td>1.269712</td>\n",
              "      <td>1.06239</td>\n",
              "      <td>0.141052</td>\n",
              "      <td>0.434319</td>\n",
              "    </tr>\n",
              "    <tr>\n",
              "      <th>min</th>\n",
              "      <td>-1.180703e+00</td>\n",
              "      <td>-7.553034e-01</td>\n",
              "      <td>-4.467871e-01</td>\n",
              "      <td>-6.331304e-01</td>\n",
              "      <td>0.000000</td>\n",
              "      <td>0.000000</td>\n",
              "      <td>0.00000</td>\n",
              "      <td>0.000000</td>\n",
              "      <td>-1.000000</td>\n",
              "    </tr>\n",
              "    <tr>\n",
              "      <th>25%</th>\n",
              "      <td>-7.699763e-01</td>\n",
              "      <td>-5.840784e-01</td>\n",
              "      <td>-4.014842e-01</td>\n",
              "      <td>-5.334557e-01</td>\n",
              "      <td>1.000000</td>\n",
              "      <td>0.000000</td>\n",
              "      <td>0.00000</td>\n",
              "      <td>1.000000</td>\n",
              "      <td>1.000000</td>\n",
              "    </tr>\n",
              "    <tr>\n",
              "      <th>50%</th>\n",
              "      <td>-2.223402e-01</td>\n",
              "      <td>-3.725777e-01</td>\n",
              "      <td>-3.255438e-01</td>\n",
              "      <td>-3.753181e-01</td>\n",
              "      <td>1.000000</td>\n",
              "      <td>0.000000</td>\n",
              "      <td>1.00000</td>\n",
              "      <td>1.000000</td>\n",
              "      <td>1.000000</td>\n",
              "    </tr>\n",
              "    <tr>\n",
              "      <th>75%</th>\n",
              "      <td>5.078412e-01</td>\n",
              "      <td>1.712618e-01</td>\n",
              "      <td>-2.562188e-02</td>\n",
              "      <td>1.029162e-01</td>\n",
              "      <td>1.000000</td>\n",
              "      <td>2.000000</td>\n",
              "      <td>2.00000</td>\n",
              "      <td>1.000000</td>\n",
              "      <td>1.000000</td>\n",
              "    </tr>\n",
              "    <tr>\n",
              "      <th>max</th>\n",
              "      <td>4.386930e+00</td>\n",
              "      <td>6.278047e+00</td>\n",
              "      <td>1.182330e+01</td>\n",
              "      <td>7.507801e+00</td>\n",
              "      <td>2.000000</td>\n",
              "      <td>3.000000</td>\n",
              "      <td>3.00000</td>\n",
              "      <td>2.000000</td>\n",
              "      <td>2.000000</td>\n",
              "    </tr>\n",
              "  </tbody>\n",
              "</table>\n",
              "</div>"
            ],
            "text/plain": [
              "              Score       Members  ...  cluster_hierarchy  cluster_dbscan\n",
              "count  5.000000e+02  5.000000e+02  ...         500.000000      500.000000\n",
              "mean  -7.213785e-15  3.808065e-17  ...           1.012000        0.912000\n",
              "std    1.001002e+00  1.001002e+00  ...           0.141052        0.434319\n",
              "min   -1.180703e+00 -7.553034e-01  ...           0.000000       -1.000000\n",
              "25%   -7.699763e-01 -5.840784e-01  ...           1.000000        1.000000\n",
              "50%   -2.223402e-01 -3.725777e-01  ...           1.000000        1.000000\n",
              "75%    5.078412e-01  1.712618e-01  ...           1.000000        1.000000\n",
              "max    4.386930e+00  6.278047e+00  ...           2.000000        2.000000\n",
              "\n",
              "[8 rows x 9 columns]"
            ]
          },
          "metadata": {},
          "execution_count": 30
        }
      ]
    },
    {
      "cell_type": "code",
      "metadata": {
        "colab": {
          "base_uri": "https://localhost:8080/",
          "height": 476
        },
        "id": "XKd-8oGw-V_I",
        "outputId": "d3173f4f-9458-44df-b5d1-10df1ae2aa85"
      },
      "source": [
        "# show plot\n",
        "plt.figure(figsize=(12,6))\n",
        "sns.scatterplot(data_cluster['Members'], data_cluster['Favorites'], hue=data_cluster['cluster_dbscan'], palette=sns.color_palette('hls', as_cmap=True))\n",
        "plt.title('DBSCAN clustering')"
      ],
      "execution_count": 31,
      "outputs": [
        {
          "output_type": "stream",
          "name": "stderr",
          "text": [
            "/usr/local/lib/python3.7/dist-packages/seaborn/_decorators.py:43: FutureWarning: Pass the following variables as keyword args: x, y. From version 0.12, the only valid positional argument will be `data`, and passing other arguments without an explicit keyword will result in an error or misinterpretation.\n",
            "  FutureWarning\n"
          ]
        },
        {
          "output_type": "execute_result",
          "data": {
            "text/plain": [
              "Text(0.5, 1.0, 'DBSCAN clustering')"
            ]
          },
          "metadata": {},
          "execution_count": 31
        },
        {
          "output_type": "display_data",
          "data": {
            "image/png": "[encoded data removed]",
            "text/plain": [
              "<Figure size 864x432 with 1 Axes>"
            ]
          },
          "metadata": {
            "needs_background": "light"
          }
        }
      ]
    }
  ]
}